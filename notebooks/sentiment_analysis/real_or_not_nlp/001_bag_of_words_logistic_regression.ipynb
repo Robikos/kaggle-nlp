{
 "cells": [
  {
   "cell_type": "code",
   "execution_count": 2,
   "metadata": {},
   "outputs": [
    {
     "name": "stdout",
     "output_type": "stream",
     "text": [
      "Collecting pandas\n",
      "  Downloading pandas-1.0.5-cp37-cp37m-macosx_10_9_x86_64.whl (10.0 MB)\n",
      "\u001b[K     |████████████████████████████████| 10.0 MB 4.4 MB/s eta 0:00:01    |█                               | 307 kB 878 kB/s eta 0:00:12     |██████████████████▎             | 5.7 MB 1.6 MB/s eta 0:00:03\n",
      "\u001b[?25hCollecting pytz>=2017.2\n",
      "  Downloading pytz-2020.1-py2.py3-none-any.whl (510 kB)\n",
      "\u001b[K     |████████████████████████████████| 510 kB 14.4 MB/s eta 0:00:01\n",
      "\u001b[?25hRequirement already satisfied: python-dateutil>=2.6.1 in /Users/robikos/anaconda3/envs/nlp/lib/python3.7/site-packages (from pandas) (2.8.1)\n",
      "Requirement already satisfied: numpy>=1.13.3 in /Users/robikos/anaconda3/envs/nlp/lib/python3.7/site-packages (from pandas) (1.19.0)\n",
      "Requirement already satisfied: six>=1.5 in /Users/robikos/anaconda3/envs/nlp/lib/python3.7/site-packages (from python-dateutil>=2.6.1->pandas) (1.15.0)\n",
      "Installing collected packages: pytz, pandas\n",
      "Successfully installed pandas-1.0.5 pytz-2020.1\n",
      "Note: you may need to restart the kernel to use updated packages.\n"
     ]
    }
   ],
   "source": [
    "%pip install pandas"
   ]
  },
  {
   "cell_type": "code",
   "execution_count": 3,
   "metadata": {},
   "outputs": [],
   "source": [
    "import pandas as pd"
   ]
  },
  {
   "cell_type": "code",
   "execution_count": 4,
   "metadata": {},
   "outputs": [],
   "source": [
    "train = pd.read_csv(\"train.csv\")"
   ]
  },
  {
   "cell_type": "code",
   "execution_count": 5,
   "metadata": {},
   "outputs": [
    {
     "data": {
      "text/html": [
       "<div>\n",
       "<style scoped>\n",
       "    .dataframe tbody tr th:only-of-type {\n",
       "        vertical-align: middle;\n",
       "    }\n",
       "\n",
       "    .dataframe tbody tr th {\n",
       "        vertical-align: top;\n",
       "    }\n",
       "\n",
       "    .dataframe thead th {\n",
       "        text-align: right;\n",
       "    }\n",
       "</style>\n",
       "<table border=\"1\" class=\"dataframe\">\n",
       "  <thead>\n",
       "    <tr style=\"text-align: right;\">\n",
       "      <th></th>\n",
       "      <th>id</th>\n",
       "      <th>keyword</th>\n",
       "      <th>location</th>\n",
       "      <th>text</th>\n",
       "      <th>target</th>\n",
       "    </tr>\n",
       "  </thead>\n",
       "  <tbody>\n",
       "    <tr>\n",
       "      <th>0</th>\n",
       "      <td>1</td>\n",
       "      <td>NaN</td>\n",
       "      <td>NaN</td>\n",
       "      <td>Our Deeds are the Reason of this #earthquake M...</td>\n",
       "      <td>1</td>\n",
       "    </tr>\n",
       "    <tr>\n",
       "      <th>1</th>\n",
       "      <td>4</td>\n",
       "      <td>NaN</td>\n",
       "      <td>NaN</td>\n",
       "      <td>Forest fire near La Ronge Sask. Canada</td>\n",
       "      <td>1</td>\n",
       "    </tr>\n",
       "    <tr>\n",
       "      <th>2</th>\n",
       "      <td>5</td>\n",
       "      <td>NaN</td>\n",
       "      <td>NaN</td>\n",
       "      <td>All residents asked to 'shelter in place' are ...</td>\n",
       "      <td>1</td>\n",
       "    </tr>\n",
       "    <tr>\n",
       "      <th>3</th>\n",
       "      <td>6</td>\n",
       "      <td>NaN</td>\n",
       "      <td>NaN</td>\n",
       "      <td>13,000 people receive #wildfires evacuation or...</td>\n",
       "      <td>1</td>\n",
       "    </tr>\n",
       "    <tr>\n",
       "      <th>4</th>\n",
       "      <td>7</td>\n",
       "      <td>NaN</td>\n",
       "      <td>NaN</td>\n",
       "      <td>Just got sent this photo from Ruby #Alaska as ...</td>\n",
       "      <td>1</td>\n",
       "    </tr>\n",
       "  </tbody>\n",
       "</table>\n",
       "</div>"
      ],
      "text/plain": [
       "   id keyword location                                               text  \\\n",
       "0   1     NaN      NaN  Our Deeds are the Reason of this #earthquake M...   \n",
       "1   4     NaN      NaN             Forest fire near La Ronge Sask. Canada   \n",
       "2   5     NaN      NaN  All residents asked to 'shelter in place' are ...   \n",
       "3   6     NaN      NaN  13,000 people receive #wildfires evacuation or...   \n",
       "4   7     NaN      NaN  Just got sent this photo from Ruby #Alaska as ...   \n",
       "\n",
       "   target  \n",
       "0       1  \n",
       "1       1  \n",
       "2       1  \n",
       "3       1  \n",
       "4       1  "
      ]
     },
     "execution_count": 5,
     "metadata": {},
     "output_type": "execute_result"
    }
   ],
   "source": [
    "train.head()"
   ]
  },
  {
   "cell_type": "code",
   "execution_count": 6,
   "metadata": {},
   "outputs": [],
   "source": [
    "train.set_index(\"id\", inplace=True)"
   ]
  },
  {
   "cell_type": "code",
   "execution_count": 7,
   "metadata": {},
   "outputs": [
    {
     "data": {
      "text/html": [
       "<div>\n",
       "<style scoped>\n",
       "    .dataframe tbody tr th:only-of-type {\n",
       "        vertical-align: middle;\n",
       "    }\n",
       "\n",
       "    .dataframe tbody tr th {\n",
       "        vertical-align: top;\n",
       "    }\n",
       "\n",
       "    .dataframe thead th {\n",
       "        text-align: right;\n",
       "    }\n",
       "</style>\n",
       "<table border=\"1\" class=\"dataframe\">\n",
       "  <thead>\n",
       "    <tr style=\"text-align: right;\">\n",
       "      <th></th>\n",
       "      <th>keyword</th>\n",
       "      <th>location</th>\n",
       "      <th>text</th>\n",
       "      <th>target</th>\n",
       "    </tr>\n",
       "    <tr>\n",
       "      <th>id</th>\n",
       "      <th></th>\n",
       "      <th></th>\n",
       "      <th></th>\n",
       "      <th></th>\n",
       "    </tr>\n",
       "  </thead>\n",
       "  <tbody>\n",
       "    <tr>\n",
       "      <th>1</th>\n",
       "      <td>NaN</td>\n",
       "      <td>NaN</td>\n",
       "      <td>Our Deeds are the Reason of this #earthquake M...</td>\n",
       "      <td>1</td>\n",
       "    </tr>\n",
       "    <tr>\n",
       "      <th>4</th>\n",
       "      <td>NaN</td>\n",
       "      <td>NaN</td>\n",
       "      <td>Forest fire near La Ronge Sask. Canada</td>\n",
       "      <td>1</td>\n",
       "    </tr>\n",
       "    <tr>\n",
       "      <th>5</th>\n",
       "      <td>NaN</td>\n",
       "      <td>NaN</td>\n",
       "      <td>All residents asked to 'shelter in place' are ...</td>\n",
       "      <td>1</td>\n",
       "    </tr>\n",
       "    <tr>\n",
       "      <th>6</th>\n",
       "      <td>NaN</td>\n",
       "      <td>NaN</td>\n",
       "      <td>13,000 people receive #wildfires evacuation or...</td>\n",
       "      <td>1</td>\n",
       "    </tr>\n",
       "    <tr>\n",
       "      <th>7</th>\n",
       "      <td>NaN</td>\n",
       "      <td>NaN</td>\n",
       "      <td>Just got sent this photo from Ruby #Alaska as ...</td>\n",
       "      <td>1</td>\n",
       "    </tr>\n",
       "  </tbody>\n",
       "</table>\n",
       "</div>"
      ],
      "text/plain": [
       "   keyword location                                               text  target\n",
       "id                                                                            \n",
       "1      NaN      NaN  Our Deeds are the Reason of this #earthquake M...       1\n",
       "4      NaN      NaN             Forest fire near La Ronge Sask. Canada       1\n",
       "5      NaN      NaN  All residents asked to 'shelter in place' are ...       1\n",
       "6      NaN      NaN  13,000 people receive #wildfires evacuation or...       1\n",
       "7      NaN      NaN  Just got sent this photo from Ruby #Alaska as ...       1"
      ]
     },
     "execution_count": 7,
     "metadata": {},
     "output_type": "execute_result"
    }
   ],
   "source": [
    "train.head()"
   ]
  },
  {
   "cell_type": "code",
   "execution_count": 10,
   "metadata": {},
   "outputs": [
    {
     "data": {
      "text/plain": [
       "array([nan, 'ablaze', 'accident', 'aftershock', 'airplane%20accident',\n",
       "       'ambulance', 'annihilated', 'annihilation', 'apocalypse',\n",
       "       'armageddon', 'army', 'arson', 'arsonist', 'attack', 'attacked',\n",
       "       'avalanche', 'battle', 'bioterror', 'bioterrorism', 'blaze',\n",
       "       'blazing', 'bleeding', 'blew%20up', 'blight', 'blizzard', 'blood',\n",
       "       'bloody', 'blown%20up', 'body%20bag', 'body%20bagging',\n",
       "       'body%20bags', 'bomb', 'bombed', 'bombing', 'bridge%20collapse',\n",
       "       'buildings%20burning', 'buildings%20on%20fire', 'burned',\n",
       "       'burning', 'burning%20buildings', 'bush%20fires', 'casualties',\n",
       "       'casualty', 'catastrophe', 'catastrophic', 'chemical%20emergency',\n",
       "       'cliff%20fall', 'collapse', 'collapsed', 'collide', 'collided',\n",
       "       'collision', 'crash', 'crashed', 'crush', 'crushed', 'curfew',\n",
       "       'cyclone', 'damage', 'danger', 'dead', 'death', 'deaths', 'debris',\n",
       "       'deluge', 'deluged', 'demolish', 'demolished', 'demolition',\n",
       "       'derail', 'derailed', 'derailment', 'desolate', 'desolation',\n",
       "       'destroy', 'destroyed', 'destruction', 'detonate', 'detonation',\n",
       "       'devastated', 'devastation', 'disaster', 'displaced', 'drought',\n",
       "       'drown', 'drowned', 'drowning', 'dust%20storm', 'earthquake',\n",
       "       'electrocute', 'electrocuted', 'emergency', 'emergency%20plan',\n",
       "       'emergency%20services', 'engulfed', 'epicentre', 'evacuate',\n",
       "       'evacuated', 'evacuation', 'explode', 'exploded', 'explosion',\n",
       "       'eyewitness', 'famine', 'fatal', 'fatalities', 'fatality', 'fear',\n",
       "       'fire', 'fire%20truck', 'first%20responders', 'flames',\n",
       "       'flattened', 'flood', 'flooding', 'floods', 'forest%20fire',\n",
       "       'forest%20fires', 'hail', 'hailstorm', 'harm', 'hazard',\n",
       "       'hazardous', 'heat%20wave', 'hellfire', 'hijack', 'hijacker',\n",
       "       'hijacking', 'hostage', 'hostages', 'hurricane', 'injured',\n",
       "       'injuries', 'injury', 'inundated', 'inundation', 'landslide',\n",
       "       'lava', 'lightning', 'loud%20bang', 'mass%20murder',\n",
       "       'mass%20murderer', 'massacre', 'mayhem', 'meltdown', 'military',\n",
       "       'mudslide', 'natural%20disaster', 'nuclear%20disaster',\n",
       "       'nuclear%20reactor', 'obliterate', 'obliterated', 'obliteration',\n",
       "       'oil%20spill', 'outbreak', 'pandemonium', 'panic', 'panicking',\n",
       "       'police', 'quarantine', 'quarantined', 'radiation%20emergency',\n",
       "       'rainstorm', 'razed', 'refugees', 'rescue', 'rescued', 'rescuers',\n",
       "       'riot', 'rioting', 'rubble', 'ruin', 'sandstorm', 'screamed',\n",
       "       'screaming', 'screams', 'seismic', 'sinkhole', 'sinking', 'siren',\n",
       "       'sirens', 'smoke', 'snowstorm', 'storm', 'stretcher',\n",
       "       'structural%20failure', 'suicide%20bomb', 'suicide%20bomber',\n",
       "       'suicide%20bombing', 'sunk', 'survive', 'survived', 'survivors',\n",
       "       'terrorism', 'terrorist', 'threat', 'thunder', 'thunderstorm',\n",
       "       'tornado', 'tragedy', 'trapped', 'trauma', 'traumatised',\n",
       "       'trouble', 'tsunami', 'twister', 'typhoon', 'upheaval',\n",
       "       'violent%20storm', 'volcano', 'war%20zone', 'weapon', 'weapons',\n",
       "       'whirlwind', 'wild%20fires', 'wildfire', 'windstorm', 'wounded',\n",
       "       'wounds', 'wreck', 'wreckage', 'wrecked'], dtype=object)"
      ]
     },
     "execution_count": 10,
     "metadata": {},
     "output_type": "execute_result"
    }
   ],
   "source": [
    "train.keyword.unique()"
   ]
  },
  {
   "cell_type": "code",
   "execution_count": 11,
   "metadata": {},
   "outputs": [],
   "source": [
    "from collections import Counter"
   ]
  },
  {
   "cell_type": "code",
   "execution_count": 12,
   "metadata": {},
   "outputs": [
    {
     "data": {
      "text/plain": [
       "Counter({nan: 61,\n",
       "         'ablaze': 36,\n",
       "         'accident': 35,\n",
       "         'aftershock': 34,\n",
       "         'airplane%20accident': 35,\n",
       "         'ambulance': 38,\n",
       "         'annihilated': 34,\n",
       "         'annihilation': 29,\n",
       "         'apocalypse': 32,\n",
       "         'armageddon': 42,\n",
       "         'army': 34,\n",
       "         'arson': 32,\n",
       "         'arsonist': 34,\n",
       "         'attack': 36,\n",
       "         'attacked': 35,\n",
       "         'avalanche': 30,\n",
       "         'battle': 26,\n",
       "         'bioterror': 37,\n",
       "         'bioterrorism': 30,\n",
       "         'blaze': 38,\n",
       "         'blazing': 34,\n",
       "         'bleeding': 35,\n",
       "         'blew%20up': 33,\n",
       "         'blight': 32,\n",
       "         'blizzard': 37,\n",
       "         'blood': 35,\n",
       "         'bloody': 35,\n",
       "         'blown%20up': 33,\n",
       "         'body%20bag': 33,\n",
       "         'body%20bagging': 33,\n",
       "         'body%20bags': 41,\n",
       "         'bomb': 34,\n",
       "         'bombed': 38,\n",
       "         'bombing': 29,\n",
       "         'bridge%20collapse': 35,\n",
       "         'buildings%20burning': 35,\n",
       "         'buildings%20on%20fire': 33,\n",
       "         'burned': 33,\n",
       "         'burning': 34,\n",
       "         'burning%20buildings': 37,\n",
       "         'bush%20fires': 25,\n",
       "         'casualties': 35,\n",
       "         'casualty': 34,\n",
       "         'catastrophe': 36,\n",
       "         'catastrophic': 30,\n",
       "         'chemical%20emergency': 33,\n",
       "         'cliff%20fall': 36,\n",
       "         'collapse': 34,\n",
       "         'collapsed': 35,\n",
       "         'collide': 34,\n",
       "         'collided': 40,\n",
       "         'collision': 39,\n",
       "         'crash': 33,\n",
       "         'crashed': 34,\n",
       "         'crush': 37,\n",
       "         'crushed': 31,\n",
       "         'curfew': 37,\n",
       "         'cyclone': 32,\n",
       "         'damage': 41,\n",
       "         'danger': 36,\n",
       "         'dead': 30,\n",
       "         'death': 36,\n",
       "         'deaths': 38,\n",
       "         'debris': 37,\n",
       "         'deluge': 42,\n",
       "         'deluged': 27,\n",
       "         'demolish': 34,\n",
       "         'demolished': 28,\n",
       "         'demolition': 35,\n",
       "         'derail': 35,\n",
       "         'derailed': 38,\n",
       "         'derailment': 39,\n",
       "         'desolate': 29,\n",
       "         'desolation': 36,\n",
       "         'destroy': 37,\n",
       "         'destroyed': 32,\n",
       "         'destruction': 34,\n",
       "         'detonate': 36,\n",
       "         'detonation': 32,\n",
       "         'devastated': 31,\n",
       "         'devastation': 36,\n",
       "         'disaster': 35,\n",
       "         'displaced': 36,\n",
       "         'drought': 35,\n",
       "         'drown': 32,\n",
       "         'drowned': 38,\n",
       "         'drowning': 34,\n",
       "         'dust%20storm': 36,\n",
       "         'earthquake': 39,\n",
       "         'electrocute': 32,\n",
       "         'electrocuted': 34,\n",
       "         'emergency': 37,\n",
       "         'emergency%20plan': 35,\n",
       "         'emergency%20services': 33,\n",
       "         'engulfed': 36,\n",
       "         'epicentre': 12,\n",
       "         'evacuate': 40,\n",
       "         'evacuated': 36,\n",
       "         'evacuation': 36,\n",
       "         'explode': 38,\n",
       "         'exploded': 33,\n",
       "         'explosion': 39,\n",
       "         'eyewitness': 32,\n",
       "         'famine': 39,\n",
       "         'fatal': 38,\n",
       "         'fatalities': 45,\n",
       "         'fatality': 37,\n",
       "         'fear': 40,\n",
       "         'fire': 38,\n",
       "         'fire%20truck': 33,\n",
       "         'first%20responders': 29,\n",
       "         'flames': 39,\n",
       "         'flattened': 34,\n",
       "         'flood': 35,\n",
       "         'flooding': 38,\n",
       "         'floods': 36,\n",
       "         'forest%20fire': 19,\n",
       "         'forest%20fires': 32,\n",
       "         'hail': 35,\n",
       "         'hailstorm': 32,\n",
       "         'harm': 41,\n",
       "         'hazard': 34,\n",
       "         'hazardous': 35,\n",
       "         'heat%20wave': 34,\n",
       "         'hellfire': 39,\n",
       "         'hijack': 33,\n",
       "         'hijacker': 35,\n",
       "         'hijacking': 32,\n",
       "         'hostage': 31,\n",
       "         'hostages': 37,\n",
       "         'hurricane': 38,\n",
       "         'injured': 35,\n",
       "         'injuries': 33,\n",
       "         'injury': 38,\n",
       "         'inundated': 35,\n",
       "         'inundation': 10,\n",
       "         'landslide': 33,\n",
       "         'lava': 34,\n",
       "         'lightning': 33,\n",
       "         'loud%20bang': 34,\n",
       "         'mass%20murder': 33,\n",
       "         'mass%20murderer': 32,\n",
       "         'massacre': 36,\n",
       "         'mayhem': 30,\n",
       "         'meltdown': 33,\n",
       "         'military': 34,\n",
       "         'mudslide': 37,\n",
       "         'natural%20disaster': 34,\n",
       "         'nuclear%20disaster': 34,\n",
       "         'nuclear%20reactor': 36,\n",
       "         'obliterate': 31,\n",
       "         'obliterated': 31,\n",
       "         'obliteration': 29,\n",
       "         'oil%20spill': 38,\n",
       "         'outbreak': 40,\n",
       "         'pandemonium': 37,\n",
       "         'panic': 37,\n",
       "         'panicking': 33,\n",
       "         'police': 37,\n",
       "         'quarantine': 34,\n",
       "         'quarantined': 37,\n",
       "         'radiation%20emergency': 9,\n",
       "         'rainstorm': 34,\n",
       "         'razed': 35,\n",
       "         'refugees': 36,\n",
       "         'rescue': 22,\n",
       "         'rescued': 35,\n",
       "         'rescuers': 35,\n",
       "         'riot': 34,\n",
       "         'rioting': 35,\n",
       "         'rubble': 28,\n",
       "         'ruin': 37,\n",
       "         'sandstorm': 37,\n",
       "         'screamed': 34,\n",
       "         'screaming': 36,\n",
       "         'screams': 35,\n",
       "         'seismic': 29,\n",
       "         'sinkhole': 39,\n",
       "         'sinking': 41,\n",
       "         'siren': 40,\n",
       "         'sirens': 29,\n",
       "         'smoke': 34,\n",
       "         'snowstorm': 29,\n",
       "         'storm': 35,\n",
       "         'stretcher': 33,\n",
       "         'structural%20failure': 35,\n",
       "         'suicide%20bomb': 35,\n",
       "         'suicide%20bomber': 31,\n",
       "         'suicide%20bombing': 33,\n",
       "         'sunk': 39,\n",
       "         'survive': 32,\n",
       "         'survived': 33,\n",
       "         'survivors': 30,\n",
       "         'terrorism': 34,\n",
       "         'terrorist': 31,\n",
       "         'threat': 11,\n",
       "         'thunder': 38,\n",
       "         'thunderstorm': 33,\n",
       "         'tornado': 35,\n",
       "         'tragedy': 36,\n",
       "         'trapped': 32,\n",
       "         'trauma': 31,\n",
       "         'traumatised': 35,\n",
       "         'trouble': 33,\n",
       "         'tsunami': 34,\n",
       "         'twister': 40,\n",
       "         'typhoon': 38,\n",
       "         'upheaval': 38,\n",
       "         'violent%20storm': 33,\n",
       "         'volcano': 27,\n",
       "         'war%20zone': 24,\n",
       "         'weapon': 39,\n",
       "         'weapons': 39,\n",
       "         'whirlwind': 39,\n",
       "         'wild%20fires': 31,\n",
       "         'wildfire': 33,\n",
       "         'windstorm': 40,\n",
       "         'wounded': 37,\n",
       "         'wounds': 33,\n",
       "         'wreck': 37,\n",
       "         'wreckage': 39,\n",
       "         'wrecked': 39})"
      ]
     },
     "execution_count": 12,
     "metadata": {},
     "output_type": "execute_result"
    }
   ],
   "source": [
    "Counter(train.keyword)"
   ]
  },
  {
   "cell_type": "code",
   "execution_count": 14,
   "metadata": {},
   "outputs": [
    {
     "data": {
      "text/plain": [
       "array([nan, 'Birmingham', 'Est. September 2012 - Bristol', ...,\n",
       "       'Vancouver, Canada', 'London ', 'Lincoln'], dtype=object)"
      ]
     },
     "execution_count": 14,
     "metadata": {},
     "output_type": "execute_result"
    }
   ],
   "source": [
    "train.location.unique()"
   ]
  },
  {
   "cell_type": "code",
   "execution_count": 15,
   "metadata": {},
   "outputs": [
    {
     "data": {
      "text/plain": [
       "Counter({1: 3271, 0: 4342})"
      ]
     },
     "execution_count": 15,
     "metadata": {},
     "output_type": "execute_result"
    }
   ],
   "source": [
    "Counter(train.target)"
   ]
  },
  {
   "cell_type": "code",
   "execution_count": 17,
   "metadata": {},
   "outputs": [
    {
     "data": {
      "text/plain": [
       "id\n",
       "1        Our Deeds are the Reason of this #earthquake M...\n",
       "4                   Forest fire near La Ronge Sask. Canada\n",
       "5        All residents asked to 'shelter in place' are ...\n",
       "6        13,000 people receive #wildfires evacuation or...\n",
       "7        Just got sent this photo from Ruby #Alaska as ...\n",
       "                               ...                        \n",
       "10869    Two giant cranes holding a bridge collapse int...\n",
       "10870    @aria_ahrary @TheTawniest The out of control w...\n",
       "10871    M1.94 [01:04 UTC]?5km S of Volcano Hawaii. htt...\n",
       "10872    Police investigating after an e-bike collided ...\n",
       "10873    The Latest: More Homes Razed by Northern Calif...\n",
       "Name: text, Length: 7613, dtype: object"
      ]
     },
     "execution_count": 17,
     "metadata": {},
     "output_type": "execute_result"
    }
   ],
   "source": [
    "train.text"
   ]
  },
  {
   "cell_type": "code",
   "execution_count": 83,
   "metadata": {},
   "outputs": [],
   "source": [
    "import re\n",
    "from string import punctuation\n",
    "from nltk.corpus import stopwords\n",
    "\n",
    "from nltk.stem import PorterStemmer\n",
    "from nltk.tokenize import TweetTokenizer\n",
    "\n",
    "english_stopwords = stopwords.words('english')\n",
    "stemmer = PorterStemmer()\n",
    "\n",
    "def transform_tweet(text):\n",
    "    text = re.sub(\"#\", \"\", text)\n",
    "    text = re.sub(\"\\@[a-zA-Z_-]+\", \"\", text)\n",
    "    text = re.sub(\"^\\s+\", \"\", text)\n",
    "    text = re.sub(\"\\s+$\", \"\", text)\n",
    "    text = re.sub(f'[{punctuation}]', \"\", text)\n",
    "    \n",
    "    tokenizer = TweetTokenizer()\n",
    "    words = tokenizer.tokenize(text)\n",
    "    words = [word for word in words if word not in english_stopwords]\n",
    "    words = [stemmer.stem(word) for word in words]\n",
    "    \n",
    "    return words"
   ]
  },
  {
   "cell_type": "code",
   "execution_count": 86,
   "metadata": {},
   "outputs": [
    {
     "data": {
      "text/plain": [
       "['three', 'peopl', 'die', 'heat', 'wave', 'far']"
      ]
     },
     "execution_count": 86,
     "metadata": {},
     "output_type": "execute_result"
    }
   ],
   "source": [
    "transform_tweet(train.iloc[10].text)"
   ]
  },
  {
   "cell_type": "code",
   "execution_count": 95,
   "metadata": {},
   "outputs": [],
   "source": [
    "transformed_text = [transform_tweet(text) for text in train.text]"
   ]
  },
  {
   "cell_type": "code",
   "execution_count": 101,
   "metadata": {},
   "outputs": [
    {
     "data": {
      "text/plain": [
       "list"
      ]
     },
     "execution_count": 101,
     "metadata": {},
     "output_type": "execute_result"
    }
   ],
   "source": [
    "type(transformed_text[0]"
   ]
  },
  {
   "cell_type": "code",
   "execution_count": 103,
   "metadata": {},
   "outputs": [
    {
     "ename": "AttributeError",
     "evalue": "'tuple' object has no attribute 'target'",
     "output_type": "error",
     "traceback": [
      "\u001b[0;31m---------------------------------------------------------------------------\u001b[0m",
      "\u001b[0;31mAttributeError\u001b[0m                            Traceback (most recent call last)",
      "\u001b[0;32m<ipython-input-103-867e961cd266>\u001b[0m in \u001b[0;36m<module>\u001b[0;34m\u001b[0m\n\u001b[1;32m      2\u001b[0m \u001b[0;32mfor\u001b[0m \u001b[0mindex\u001b[0m\u001b[0;34m,\u001b[0m \u001b[0msentence\u001b[0m \u001b[0;32min\u001b[0m \u001b[0menumerate\u001b[0m\u001b[0;34m(\u001b[0m\u001b[0mtrain\u001b[0m\u001b[0;34m.\u001b[0m\u001b[0miterrows\u001b[0m\u001b[0;34m(\u001b[0m\u001b[0;34m)\u001b[0m\u001b[0;34m)\u001b[0m\u001b[0;34m:\u001b[0m\u001b[0;34m\u001b[0m\u001b[0;34m\u001b[0m\u001b[0m\n\u001b[1;32m      3\u001b[0m     \u001b[0;32mfor\u001b[0m \u001b[0mword\u001b[0m \u001b[0;32min\u001b[0m \u001b[0mtransformed_text\u001b[0m\u001b[0;34m[\u001b[0m\u001b[0mindex\u001b[0m\u001b[0;34m]\u001b[0m\u001b[0;34m:\u001b[0m\u001b[0;34m\u001b[0m\u001b[0;34m\u001b[0m\u001b[0m\n\u001b[0;32m----> 4\u001b[0;31m         \u001b[0;32mif\u001b[0m \u001b[0msentence\u001b[0m\u001b[0;34m.\u001b[0m\u001b[0mtarget\u001b[0m \u001b[0;34m==\u001b[0m \u001b[0;36m1\u001b[0m\u001b[0;34m:\u001b[0m\u001b[0;34m\u001b[0m\u001b[0;34m\u001b[0m\u001b[0m\n\u001b[0m\u001b[1;32m      5\u001b[0m             \u001b[0mfreqs\u001b[0m\u001b[0;34m[\u001b[0m\u001b[0;34m(\u001b[0m\u001b[0mword\u001b[0m\u001b[0;34m,\u001b[0m \u001b[0;36m1\u001b[0m\u001b[0;34m)\u001b[0m\u001b[0;34m]\u001b[0m \u001b[0;34m=\u001b[0m \u001b[0mfreqs\u001b[0m\u001b[0;34m.\u001b[0m\u001b[0mget\u001b[0m\u001b[0;34m(\u001b[0m\u001b[0;34m(\u001b[0m\u001b[0mword\u001b[0m\u001b[0;34m,\u001b[0m \u001b[0;36m1.0\u001b[0m\u001b[0;34m)\u001b[0m\u001b[0;34m,\u001b[0m \u001b[0;36m0\u001b[0m\u001b[0;34m)\u001b[0m \u001b[0;34m+\u001b[0m \u001b[0;36m1\u001b[0m\u001b[0;34m\u001b[0m\u001b[0;34m\u001b[0m\u001b[0m\n\u001b[1;32m      6\u001b[0m         \u001b[0;32melse\u001b[0m\u001b[0;34m:\u001b[0m\u001b[0;34m\u001b[0m\u001b[0;34m\u001b[0m\u001b[0m\n",
      "\u001b[0;31mAttributeError\u001b[0m: 'tuple' object has no attribute 'target'"
     ]
    }
   ],
   "source": [
    "freqs = {}\n",
    "for index, sentence in enumerate(train.iterrows()):\n",
    "    for word in transformed_text[index]:\n",
    "        if sentence.target == 1:\n",
    "            freqs[(word, 1)] = freqs.get((word, 1.0), 0) + 1\n",
    "        else:\n",
    "            freqs[(word, 0)] = freqs.get((word, 1.0), 0) + 1"
   ]
  },
  {
   "cell_type": "code",
   "execution_count": null,
   "metadata": {},
   "outputs": [],
   "source": []
  }
 ],
 "metadata": {
  "kernelspec": {
   "display_name": "nlp",
   "language": "python",
   "name": "nlp"
  },
  "language_info": {
   "codemirror_mode": {
    "name": "ipython",
    "version": 3
   },
   "file_extension": ".py",
   "mimetype": "text/x-python",
   "name": "python",
   "nbconvert_exporter": "python",
   "pygments_lexer": "ipython3",
   "version": "3.7.7"
  }
 },
 "nbformat": 4,
 "nbformat_minor": 2
}
